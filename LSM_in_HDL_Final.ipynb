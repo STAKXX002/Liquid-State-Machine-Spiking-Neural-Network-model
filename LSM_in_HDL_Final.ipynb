{
  "nbformat": 4,
  "nbformat_minor": 0,
  "metadata": {
    "colab": {
      "provenance": []
    },
    "kernelspec": {
      "name": "python3",
      "display_name": "Python 3"
    },
    "language_info": {
      "name": "python"
    }
  },
  "cells": [
    {
      "cell_type": "code",
      "source": [
        "# -*- coding: utf-8 -*-\n",
        "\"\"\"LSM_MNIST_CPU_Vivado.ipynb\n",
        "\n",
        "Colab notebook to train a CPU-only LSM (LIF reservoir + ridge readout) on MNIST.\n",
        "Exports data for Vivado/Verilog simulation.\n",
        "All math and operations are annotated.\n",
        "\"\"\"\n",
        "\n",
        "# === Imports ===\n",
        "import os\n",
        "import json\n",
        "import gzip\n",
        "import numpy as np\n",
        "from scipy import sparse\n",
        "from scipy.sparse import random as sparse_random\n",
        "from sklearn.datasets import fetch_openml\n",
        "from sklearn.model_selection import train_test_split\n",
        "\n",
        "# === Mount Google Drive for saving outputs ===\n",
        "from google.colab import drive\n",
        "drive.mount('/content/drive', force_remount=True)"
      ],
      "metadata": {
        "colab": {
          "base_uri": "https://localhost:8080/"
        },
        "id": "8xxMBIlp3PXU",
        "outputId": "e2440c78-e95c-4129-df9a-d6a4a4397862"
      },
      "execution_count": null,
      "outputs": [
        {
          "output_type": "stream",
          "name": "stdout",
          "text": [
            "Mounted at /content/drive\n"
          ]
        }
      ]
    },
    {
      "cell_type": "code",
      "source": [
        "# === Config ===\n",
        "OUTPUT_DIR = '/content/drive/MyDrive/LSM_HDL_CPU'\n",
        "os.makedirs(OUTPUT_DIR, exist_ok=True)\n",
        "\n",
        "# CPU-friendly parameters\n",
        "N_INPUT = 784             # MNIST flattened input\n",
        "N_RESERVOIR = 500         # Reservoir neurons\n",
        "T_SIM = 100               # Simulation window (ms)\n",
        "DT = 1.0                  # Euler timestep\n",
        "N_TRIALS = 3              # Poisson trials per image\n",
        "MAX_RATE = 120.0          # Max firing rate for Poisson encoding\n",
        "\n",
        "# LIF neuron parameters\n",
        "V_THRESH = 1.0\n",
        "V_RESET = 0.0\n",
        "V_REST = 0.0\n",
        "TAU = 20.0\n",
        "REFRACTORY_MS = 5.0\n",
        "\n",
        "# Connectivity\n",
        "DENSITY_W = 0.05          # fraction non-zero in recurrent W\n",
        "DENSITY_WIN = 0.08        # fraction non-zero in input Win\n",
        "WIN_STD = 0.12\n",
        "TARGET_SPECTRAL_RADIUS = 0.95\n",
        "\n",
        "# Ridge regression\n",
        "RIDGE_ALPHA = 1.0\n",
        "\n",
        "# Random seed\n",
        "SEED = 42\n",
        "rng = np.random.default_rng(SEED)\n",
        "\n",
        "# Quantization for Vivado HLS (Q1.15 fixed point)\n",
        "Q_SHIFT = 15\n",
        "Q_DTYPE = np.int16\n",
        "\n",
        "# Load/save flags\n",
        "LOAD_EXISTING_MODEL = True\n",
        "SAVE_RESERVOIR_STATES = True"
      ],
      "metadata": {
        "id": "ZJC19osd3V6E"
      },
      "execution_count": null,
      "outputs": []
    },
    {
      "cell_type": "code",
      "source": [
        "# ---------------- HELPERS ----------------\n",
        "\n",
        "def make_sparse_random_csr(m, n, density, rng, scale=1.0):\n",
        "    \"\"\"\n",
        "    Create sparse random matrix with Gaussian entries.\n",
        "    Mathematically: Win[i,j] ~ N(0, scale^2) if non-zero\n",
        "    Stored as CSR for memory efficiency.\n",
        "    \"\"\"\n",
        "    mat = sparse_random(m, n, density=density,\n",
        "                        data_rvs=lambda k: rng.normal(0.0, scale, size=k),\n",
        "                        random_state=rng, format='coo')\n",
        "    return mat.tocsr().astype(np.float32)\n",
        "\n",
        "def power_iteration_spectral_radius_sparse(A_csr, n_iter=50):\n",
        "    \"\"\"\n",
        "    Estimate largest eigenvalue (spectral radius) using power iteration:\n",
        "    b_{k+1} = A*b_k / ||A*b_k||\n",
        "    \"\"\"\n",
        "    n = A_csr.shape[0]\n",
        "    b = rng.normal(size=(n,),).astype(np.float32)\n",
        "    for _ in range(n_iter):\n",
        "        b = A_csr.dot(b)\n",
        "        b /= np.linalg.norm(b) + 1e-12\n",
        "    return float(np.linalg.norm(A_csr.dot(b)))\n",
        "\n",
        "def image_to_spike_bins_poisson(image, t_sim=T_SIM, max_rate=MAX_RATE):\n",
        "    \"\"\"\n",
        "    Convert normalized image to Poisson spike train over T_SIM ms.\n",
        "    λ = pixel_value * max_rate\n",
        "    Each pixel fires independently with Poisson statistics.\n",
        "    Returns list of length T_SIM, each entry = list of spiking pixel indices.\n",
        "    \"\"\"\n",
        "    rates = image * max_rate\n",
        "    lam = rates * (t_sim / 1000.0)\n",
        "    counts = rng.poisson(lam)\n",
        "    nonzero_idx = np.nonzero(counts)[0]\n",
        "    bins = [[] for _ in range(int(t_sim))]\n",
        "    for pix in nonzero_idx:\n",
        "        n_spk = int(counts[pix])\n",
        "        times = (rng.random(n_spk) * t_sim).astype(int)\n",
        "        for tt in times:\n",
        "            bins[tt].append(int(pix))\n",
        "    return bins\n",
        "\n",
        "def run_reservoir_sparse(spike_bins, Win_csr, W_csr):\n",
        "    \"\"\"\n",
        "    LIF reservoir simulation:\n",
        "    V[t+1] = V[t] + dt*(-V[t] + V_rest)/tau + input + recurrent\n",
        "    Spikes reset V and apply refractory\n",
        "    \"\"\"\n",
        "    V = np.full(N_RESERVOIR, V_REST, dtype=np.float32)\n",
        "    refrac = np.zeros(N_RESERVOIR, dtype=np.float32)\n",
        "    activity = []\n",
        "\n",
        "    for t in range(int(T_SIM)):\n",
        "        pixels = spike_bins[t]\n",
        "        if pixels:\n",
        "            input_contrib = Win_csr[:, pixels].sum(axis=1).A.ravel()\n",
        "            V += input_contrib\n",
        "        # Leak (Euler step)\n",
        "        V += DT * (-V + V_REST) / TAU\n",
        "        # Spike condition\n",
        "        spiking = V >= V_THRESH\n",
        "        if spiking.any():\n",
        "            V[spiking] = V_RESET\n",
        "            refrac[spiking] = REFRACTORY_MS\n",
        "            V += W_csr.dot(spiking.astype(np.float32))\n",
        "        # Refractory decay\n",
        "        mask = refrac > 0\n",
        "        V[mask] = V_RESET\n",
        "        refrac[mask] -= DT\n",
        "        activity.append(V.copy())\n",
        "    return np.mean(activity, axis=0)\n",
        "\n",
        "def compute_reservoir_states_sparse(Xset, Win_csr, W_csr, N_trials=N_TRIALS):\n",
        "    \"\"\"\n",
        "    Compute reservoir states for each image, averaged over trials.\n",
        "    \"\"\"\n",
        "    N = Xset.shape[0]\n",
        "    R = np.zeros((N, N_RESERVOIR), dtype=np.float32)\n",
        "    for i in range(N):\n",
        "        trial_activities = []\n",
        "        for _ in range(N_trials):\n",
        "            bins = image_to_spike_bins_poisson(Xset[i])\n",
        "            trial_activities.append(run_reservoir_sparse(bins, Win_csr, W_csr))\n",
        "        R[i] = np.mean(trial_activities, axis=0)\n",
        "        if (i+1) % 500 == 0 or i == N-1:\n",
        "            print(f\"... processed {i+1}/{N}\")\n",
        "    return R\n",
        "\n",
        "def train_ridge_closed_form(R, y, alpha=1.0):\n",
        "    \"\"\"\n",
        "    Ridge regression:\n",
        "    Wout^T = (R^T R + alpha I)^-1 R^T Y\n",
        "    Y = one-hot of labels\n",
        "    \"\"\"\n",
        "    N, D = R.shape\n",
        "    classes = np.unique(y)\n",
        "    C = classes.size\n",
        "    Y = np.zeros((N, C), dtype=np.float32)\n",
        "    for i, lab in enumerate(classes):\n",
        "        Y[:, i] = (y == lab).astype(np.float32)\n",
        "    A = R.T.dot(R) + alpha*np.eye(D, dtype=np.float32)\n",
        "    RtY = R.T.dot(Y)\n",
        "    Wout = np.linalg.solve(A, RtY).T.astype(np.float32)\n",
        "    return Wout, classes\n",
        "\n",
        "def predict_from_readout(R, Wout):\n",
        "    scores = R.dot(Wout.T)\n",
        "    return np.argmax(scores, axis=1)\n",
        "\n",
        "def quantize_to_int(arr, qshift=Q_SHIFT, dtype=Q_DTYPE):\n",
        "    \"\"\"Q1.15 fixed-point quantization for Vivado HLS\"\"\"\n",
        "    scaled = np.round(arr * (1 << qshift)).astype(np.int64)\n",
        "    info = np.iinfo(dtype)\n",
        "    return np.clip(scaled, info.min, info.max).astype(dtype)"
      ],
      "metadata": {
        "id": "X7vgtxaE3EH4"
      },
      "execution_count": null,
      "outputs": []
    },
    {
      "cell_type": "code",
      "source": [
        "# ---------------- LOAD MNIST ----------------\n",
        "print(\"Loading MNIST...\")\n",
        "mnist = fetch_openml('mnist_784', version=1, as_frame=False)\n",
        "X = mnist.data.astype(np.float32)/255.0\n",
        "y = mnist.target.astype(int)\n",
        "X_train, X_test, y_train, y_test = train_test_split(X, y, test_size=0.1, random_state=SEED)"
      ],
      "metadata": {
        "colab": {
          "base_uri": "https://localhost:8080/"
        },
        "id": "5Kx3wVOT3MQ-",
        "outputId": "cfde8405-6233-4f95-d0e5-a4422426efbf"
      },
      "execution_count": null,
      "outputs": [
        {
          "output_type": "stream",
          "name": "stdout",
          "text": [
            "Loading MNIST...\n"
          ]
        }
      ]
    },
    {
      "cell_type": "code",
      "source": [
        "# ---------------- LOAD / INIT MODEL ----------------\n",
        "npz_path = os.path.join(OUTPUT_DIR, 'lsm_parameters.npz')\n",
        "Win = None; W = None; Wout = None; classes = None\n",
        "\n",
        "if LOAD_EXISTING_MODEL and os.path.exists(npz_path):\n",
        "    print(\"Loading pre-trained model...\")\n",
        "    data = np.load(npz_path, allow_pickle=True)\n",
        "    Win = sparse.csr_matrix(data['Win'].astype(np.float32))\n",
        "    W = sparse.csr_matrix(data['W'].astype(np.float32))\n",
        "    Wout = data['Wout'].astype(np.float32)\n",
        "    classes = data['classes']\n",
        "else:\n",
        "    print(\"Initializing weights...\")\n",
        "    Win = make_sparse_random_csr(N_RESERVOIR, N_INPUT, DENSITY_WIN, rng, WIN_STD)\n",
        "    W = make_sparse_random_csr(N_RESERVOIR, N_RESERVOIR, DENSITY_W, rng)\n",
        "    rho_est = power_iteration_spectral_radius_sparse(W)\n",
        "    W *= TARGET_SPECTRAL_RADIUS / (rho_est + 1e-12)"
      ],
      "metadata": {
        "colab": {
          "base_uri": "https://localhost:8080/"
        },
        "id": "XXkEZ6pR3Lhv",
        "outputId": "965ebce4-6d0a-42b7-e002-89397772121b"
      },
      "execution_count": null,
      "outputs": [
        {
          "output_type": "stream",
          "name": "stderr",
          "text": [
            "Exception ignored in: <function NpzFile.__del__ at 0x7f15ee1242c0>\n",
            "Traceback (most recent call last):\n",
            "  File \"/usr/local/lib/python3.12/dist-packages/numpy/lib/_npyio_impl.py\", line 226, in __del__\n",
            "    self.close()\n",
            "  File \"/usr/local/lib/python3.12/dist-packages/numpy/lib/_npyio_impl.py\", line 221, in close\n",
            "    self.fid.close()\n",
            "OSError: [Errno 107] Transport endpoint is not connected\n"
          ]
        },
        {
          "output_type": "stream",
          "name": "stdout",
          "text": [
            "Loading pre-trained model...\n"
          ]
        }
      ]
    },
    {
      "cell_type": "code",
      "source": [
        "# ---------------- RESERVOIR STATES ----------------\n",
        "if not (LOAD_EXISTING_MODEL and os.path.exists(npz_path)):\n",
        "    print(\"Computing reservoir states for training set...\")\n",
        "    R_train = compute_reservoir_states_sparse(X_train, Win, W)\n",
        "    print(\"Computing reservoir states for test set...\")\n",
        "    R_test = compute_reservoir_states_sparse(X_test, Win, W)\n",
        "\n",
        "    # Train readout\n",
        "    print(\"Training readout...\")\n",
        "    Wout, classes = train_ridge_closed_form(R_train, y_train)\n",
        "\n",
        "    # Save model\n",
        "    np.savez_compressed(npz_path,\n",
        "                        Win=Win.toarray().astype(np.float32),\n",
        "                        W=W.toarray().astype(np.float32),\n",
        "                        Wout=Wout.astype(np.float32),\n",
        "                        classes=classes.astype(np.int32))\n",
        "    print(\"Model saved to\", npz_path)\n",
        "else:\n",
        "    if 'R_train' not in locals():\n",
        "        print(\"Computing R_test only...\")\n",
        "        R_test = compute_reservoir_states_sparse(X_test, Win, W)"
      ],
      "metadata": {
        "colab": {
          "base_uri": "https://localhost:8080/",
          "height": 356
        },
        "id": "i3RnoGAX3JW5",
        "outputId": "7ec91252-ea09-41d8-b239-71df9577bf73"
      },
      "execution_count": null,
      "outputs": [
        {
          "output_type": "stream",
          "name": "stdout",
          "text": [
            "Computing R_test only...\n",
            "... processed 500/7000\n"
          ]
        },
        {
          "output_type": "error",
          "ename": "KeyboardInterrupt",
          "evalue": "",
          "traceback": [
            "\u001b[0;31m---------------------------------------------------------------------------\u001b[0m",
            "\u001b[0;31mKeyboardInterrupt\u001b[0m                         Traceback (most recent call last)",
            "\u001b[0;32m/tmp/ipython-input-2645450275.py\u001b[0m in \u001b[0;36m<cell line: 0>\u001b[0;34m()\u001b[0m\n\u001b[1;32m     20\u001b[0m     \u001b[0;32mif\u001b[0m \u001b[0;34m'R_train'\u001b[0m \u001b[0;32mnot\u001b[0m \u001b[0;32min\u001b[0m \u001b[0mlocals\u001b[0m\u001b[0;34m(\u001b[0m\u001b[0;34m)\u001b[0m\u001b[0;34m:\u001b[0m\u001b[0;34m\u001b[0m\u001b[0;34m\u001b[0m\u001b[0m\n\u001b[1;32m     21\u001b[0m         \u001b[0mprint\u001b[0m\u001b[0;34m(\u001b[0m\u001b[0;34m\"Computing R_test only...\"\u001b[0m\u001b[0;34m)\u001b[0m\u001b[0;34m\u001b[0m\u001b[0;34m\u001b[0m\u001b[0m\n\u001b[0;32m---> 22\u001b[0;31m         \u001b[0mR_test\u001b[0m \u001b[0;34m=\u001b[0m \u001b[0mcompute_reservoir_states_sparse\u001b[0m\u001b[0;34m(\u001b[0m\u001b[0mX_test\u001b[0m\u001b[0;34m,\u001b[0m \u001b[0mWin\u001b[0m\u001b[0;34m,\u001b[0m \u001b[0mW\u001b[0m\u001b[0;34m)\u001b[0m\u001b[0;34m\u001b[0m\u001b[0;34m\u001b[0m\u001b[0m\n\u001b[0m",
            "\u001b[0;32m/tmp/ipython-input-3423781576.py\u001b[0m in \u001b[0;36mcompute_reservoir_states_sparse\u001b[0;34m(Xset, Win_csr, W_csr, N_trials)\u001b[0m\n\u001b[1;32m     83\u001b[0m         \u001b[0;32mfor\u001b[0m \u001b[0m_\u001b[0m \u001b[0;32min\u001b[0m \u001b[0mrange\u001b[0m\u001b[0;34m(\u001b[0m\u001b[0mN_trials\u001b[0m\u001b[0;34m)\u001b[0m\u001b[0;34m:\u001b[0m\u001b[0;34m\u001b[0m\u001b[0;34m\u001b[0m\u001b[0m\n\u001b[1;32m     84\u001b[0m             \u001b[0mbins\u001b[0m \u001b[0;34m=\u001b[0m \u001b[0mimage_to_spike_bins_poisson\u001b[0m\u001b[0;34m(\u001b[0m\u001b[0mXset\u001b[0m\u001b[0;34m[\u001b[0m\u001b[0mi\u001b[0m\u001b[0;34m]\u001b[0m\u001b[0;34m)\u001b[0m\u001b[0;34m\u001b[0m\u001b[0;34m\u001b[0m\u001b[0m\n\u001b[0;32m---> 85\u001b[0;31m             \u001b[0mtrial_activities\u001b[0m\u001b[0;34m.\u001b[0m\u001b[0mappend\u001b[0m\u001b[0;34m(\u001b[0m\u001b[0mrun_reservoir_sparse\u001b[0m\u001b[0;34m(\u001b[0m\u001b[0mbins\u001b[0m\u001b[0;34m,\u001b[0m \u001b[0mWin_csr\u001b[0m\u001b[0;34m,\u001b[0m \u001b[0mW_csr\u001b[0m\u001b[0;34m)\u001b[0m\u001b[0;34m)\u001b[0m\u001b[0;34m\u001b[0m\u001b[0;34m\u001b[0m\u001b[0m\n\u001b[0m\u001b[1;32m     86\u001b[0m         \u001b[0mR\u001b[0m\u001b[0;34m[\u001b[0m\u001b[0mi\u001b[0m\u001b[0;34m]\u001b[0m \u001b[0;34m=\u001b[0m \u001b[0mnp\u001b[0m\u001b[0;34m.\u001b[0m\u001b[0mmean\u001b[0m\u001b[0;34m(\u001b[0m\u001b[0mtrial_activities\u001b[0m\u001b[0;34m,\u001b[0m \u001b[0maxis\u001b[0m\u001b[0;34m=\u001b[0m\u001b[0;36m0\u001b[0m\u001b[0;34m)\u001b[0m\u001b[0;34m\u001b[0m\u001b[0;34m\u001b[0m\u001b[0m\n\u001b[1;32m     87\u001b[0m         \u001b[0;32mif\u001b[0m \u001b[0;34m(\u001b[0m\u001b[0mi\u001b[0m\u001b[0;34m+\u001b[0m\u001b[0;36m1\u001b[0m\u001b[0;34m)\u001b[0m \u001b[0;34m%\u001b[0m \u001b[0;36m500\u001b[0m \u001b[0;34m==\u001b[0m \u001b[0;36m0\u001b[0m \u001b[0;32mor\u001b[0m \u001b[0mi\u001b[0m \u001b[0;34m==\u001b[0m \u001b[0mN\u001b[0m\u001b[0;34m-\u001b[0m\u001b[0;36m1\u001b[0m\u001b[0;34m:\u001b[0m\u001b[0;34m\u001b[0m\u001b[0;34m\u001b[0m\u001b[0m\n",
            "\u001b[0;32m/tmp/ipython-input-3423781576.py\u001b[0m in \u001b[0;36mrun_reservoir_sparse\u001b[0;34m(spike_bins, Win_csr, W_csr)\u001b[0m\n\u001b[1;32m     56\u001b[0m         \u001b[0mpixels\u001b[0m \u001b[0;34m=\u001b[0m \u001b[0mspike_bins\u001b[0m\u001b[0;34m[\u001b[0m\u001b[0mt\u001b[0m\u001b[0;34m]\u001b[0m\u001b[0;34m\u001b[0m\u001b[0;34m\u001b[0m\u001b[0m\n\u001b[1;32m     57\u001b[0m         \u001b[0;32mif\u001b[0m \u001b[0mpixels\u001b[0m\u001b[0;34m:\u001b[0m\u001b[0;34m\u001b[0m\u001b[0;34m\u001b[0m\u001b[0m\n\u001b[0;32m---> 58\u001b[0;31m             \u001b[0minput_contrib\u001b[0m \u001b[0;34m=\u001b[0m \u001b[0mWin_csr\u001b[0m\u001b[0;34m[\u001b[0m\u001b[0;34m:\u001b[0m\u001b[0;34m,\u001b[0m \u001b[0mpixels\u001b[0m\u001b[0;34m]\u001b[0m\u001b[0;34m.\u001b[0m\u001b[0msum\u001b[0m\u001b[0;34m(\u001b[0m\u001b[0maxis\u001b[0m\u001b[0;34m=\u001b[0m\u001b[0;36m1\u001b[0m\u001b[0;34m)\u001b[0m\u001b[0;34m.\u001b[0m\u001b[0mA\u001b[0m\u001b[0;34m.\u001b[0m\u001b[0mravel\u001b[0m\u001b[0;34m(\u001b[0m\u001b[0;34m)\u001b[0m\u001b[0;34m\u001b[0m\u001b[0;34m\u001b[0m\u001b[0m\n\u001b[0m\u001b[1;32m     59\u001b[0m             \u001b[0mV\u001b[0m \u001b[0;34m+=\u001b[0m \u001b[0minput_contrib\u001b[0m\u001b[0;34m\u001b[0m\u001b[0;34m\u001b[0m\u001b[0m\n\u001b[1;32m     60\u001b[0m         \u001b[0;31m# Leak (Euler step)\u001b[0m\u001b[0;34m\u001b[0m\u001b[0;34m\u001b[0m\u001b[0m\n",
            "\u001b[0;32m/usr/local/lib/python3.12/dist-packages/scipy/sparse/_index.py\u001b[0m in \u001b[0;36m__getitem__\u001b[0;34m(self, key)\u001b[0m\n\u001b[1;32m     78\u001b[0m                     \u001b[0mres\u001b[0m \u001b[0;34m=\u001b[0m \u001b[0mself\u001b[0m\u001b[0;34m.\u001b[0m\u001b[0m_get_sliceXslice\u001b[0m\u001b[0;34m(\u001b[0m\u001b[0mrow\u001b[0m\u001b[0;34m,\u001b[0m \u001b[0mcol\u001b[0m\u001b[0;34m)\u001b[0m\u001b[0;34m\u001b[0m\u001b[0;34m\u001b[0m\u001b[0m\n\u001b[1;32m     79\u001b[0m             \u001b[0;32melif\u001b[0m \u001b[0mcol\u001b[0m\u001b[0;34m.\u001b[0m\u001b[0mndim\u001b[0m \u001b[0;34m==\u001b[0m \u001b[0;36m1\u001b[0m\u001b[0;34m:\u001b[0m\u001b[0;34m\u001b[0m\u001b[0;34m\u001b[0m\u001b[0m\n\u001b[0;32m---> 80\u001b[0;31m                 \u001b[0mres\u001b[0m \u001b[0;34m=\u001b[0m \u001b[0mself\u001b[0m\u001b[0;34m.\u001b[0m\u001b[0m_get_sliceXarray\u001b[0m\u001b[0;34m(\u001b[0m\u001b[0mrow\u001b[0m\u001b[0;34m,\u001b[0m \u001b[0mcol\u001b[0m\u001b[0;34m)\u001b[0m\u001b[0;34m\u001b[0m\u001b[0;34m\u001b[0m\u001b[0m\n\u001b[0m\u001b[1;32m     81\u001b[0m             \u001b[0;32melse\u001b[0m\u001b[0;34m:\u001b[0m\u001b[0;34m\u001b[0m\u001b[0;34m\u001b[0m\u001b[0m\n\u001b[1;32m     82\u001b[0m                 \u001b[0;32mraise\u001b[0m \u001b[0mIndexError\u001b[0m\u001b[0;34m(\u001b[0m\u001b[0;34m'index results in >2 dimensions'\u001b[0m\u001b[0;34m)\u001b[0m\u001b[0;34m\u001b[0m\u001b[0;34m\u001b[0m\u001b[0m\n",
            "\u001b[0;32m/usr/local/lib/python3.12/dist-packages/scipy/sparse/_csr.py\u001b[0m in \u001b[0;36m_get_sliceXarray\u001b[0;34m(self, row, col)\u001b[0m\n\u001b[1;32m    263\u001b[0m \u001b[0;34m\u001b[0m\u001b[0m\n\u001b[1;32m    264\u001b[0m     \u001b[0;32mdef\u001b[0m \u001b[0m_get_sliceXarray\u001b[0m\u001b[0;34m(\u001b[0m\u001b[0mself\u001b[0m\u001b[0;34m,\u001b[0m \u001b[0mrow\u001b[0m\u001b[0;34m,\u001b[0m \u001b[0mcol\u001b[0m\u001b[0;34m)\u001b[0m\u001b[0;34m:\u001b[0m\u001b[0;34m\u001b[0m\u001b[0;34m\u001b[0m\u001b[0m\n\u001b[0;32m--> 265\u001b[0;31m         \u001b[0;32mreturn\u001b[0m \u001b[0mself\u001b[0m\u001b[0;34m.\u001b[0m\u001b[0m_major_slice\u001b[0m\u001b[0;34m(\u001b[0m\u001b[0mrow\u001b[0m\u001b[0;34m)\u001b[0m\u001b[0;34m.\u001b[0m\u001b[0m_minor_index_fancy\u001b[0m\u001b[0;34m(\u001b[0m\u001b[0mcol\u001b[0m\u001b[0;34m)\u001b[0m\u001b[0;34m\u001b[0m\u001b[0;34m\u001b[0m\u001b[0m\n\u001b[0m\u001b[1;32m    266\u001b[0m \u001b[0;34m\u001b[0m\u001b[0m\n\u001b[1;32m    267\u001b[0m     \u001b[0;32mdef\u001b[0m \u001b[0m_get_arrayXint\u001b[0m\u001b[0;34m(\u001b[0m\u001b[0mself\u001b[0m\u001b[0;34m,\u001b[0m \u001b[0mrow\u001b[0m\u001b[0;34m,\u001b[0m \u001b[0mcol\u001b[0m\u001b[0;34m)\u001b[0m\u001b[0;34m:\u001b[0m\u001b[0;34m\u001b[0m\u001b[0;34m\u001b[0m\u001b[0m\n",
            "\u001b[0;32m/usr/local/lib/python3.12/dist-packages/scipy/sparse/_compressed.py\u001b[0m in \u001b[0;36m_minor_index_fancy\u001b[0;34m(self, idx)\u001b[0m\n\u001b[1;32m    680\u001b[0m         \u001b[0mres_indices\u001b[0m \u001b[0;34m=\u001b[0m \u001b[0mnp\u001b[0m\u001b[0;34m.\u001b[0m\u001b[0mempty\u001b[0m\u001b[0;34m(\u001b[0m\u001b[0mnnz\u001b[0m\u001b[0;34m,\u001b[0m \u001b[0mdtype\u001b[0m\u001b[0;34m=\u001b[0m\u001b[0midx_dtype\u001b[0m\u001b[0;34m)\u001b[0m\u001b[0;34m\u001b[0m\u001b[0;34m\u001b[0m\u001b[0m\n\u001b[1;32m    681\u001b[0m         \u001b[0mres_data\u001b[0m \u001b[0;34m=\u001b[0m \u001b[0mnp\u001b[0m\u001b[0;34m.\u001b[0m\u001b[0mempty\u001b[0m\u001b[0;34m(\u001b[0m\u001b[0mnnz\u001b[0m\u001b[0;34m,\u001b[0m \u001b[0mdtype\u001b[0m\u001b[0;34m=\u001b[0m\u001b[0mself\u001b[0m\u001b[0;34m.\u001b[0m\u001b[0mdtype\u001b[0m\u001b[0;34m)\u001b[0m\u001b[0;34m\u001b[0m\u001b[0;34m\u001b[0m\u001b[0m\n\u001b[0;32m--> 682\u001b[0;31m         csr_column_index2(col_order, col_offsets, len(self.indices),\n\u001b[0m\u001b[1;32m    683\u001b[0m                           indices, self.data, res_indices, res_data)\n\u001b[1;32m    684\u001b[0m         return self.__class__((res_data, res_indices, res_indptr),\n",
            "\u001b[0;31mKeyboardInterrupt\u001b[0m: "
          ]
        }
      ]
    },
    {
      "cell_type": "code",
      "source": [
        "# ---------------- EVALUATION ----------------\n",
        "yhat_train = predict_from_readout(R_train, Wout) if 'R_train' in locals() else None\n",
        "yhat_test = predict_from_readout(R_test, Wout)\n",
        "if yhat_train is not None:\n",
        "    print(f\"Train acc: {np.mean(yhat_train == y_train):.4f} | Test acc: {np.mean(yhat_test == y_test):.4f}\")\n",
        "else:\n",
        "    print(f\"Test acc: {np.mean(yhat_test == y_test):.4f}\")"
      ],
      "metadata": {
        "colab": {
          "base_uri": "https://localhost:8080/"
        },
        "id": "CzsrzR2E3Hx_",
        "outputId": "713f584b-dcc8-413c-e13d-aaf2f8e69f5c"
      },
      "execution_count": null,
      "outputs": [
        {
          "output_type": "stream",
          "name": "stdout",
          "text": [
            "Test acc: 0.9039\n"
          ]
        }
      ]
    },
    {
      "cell_type": "code",
      "source": [
        "\n",
        "# ---------------- EXPORT FOR VIVADO ----------------\n",
        "print(\"Exporting quantized weights...\")\n",
        "Win_q = quantize_to_int(Win.toarray())\n",
        "W_q = quantize_to_int(W.toarray())\n",
        "Wout_q = quantize_to_int(Wout)\n",
        "\n",
        "np.savez_compressed(os.path.join(OUTPUT_DIR,'Win_q.npz'), data=Win_q)\n",
        "np.savez_compressed(os.path.join(OUTPUT_DIR,'W_q.npz'), data=W_q)\n",
        "np.savez_compressed(os.path.join(OUTPUT_DIR,'Wout_q.npz'), data=Wout_q)\n",
        "print(\"Export done. Files in:\", OUTPUT_DIR)\n"
      ],
      "metadata": {
        "colab": {
          "base_uri": "https://localhost:8080/"
        },
        "id": "o8Ti_nTB3ErI",
        "outputId": "7a583881-956f-4155-9874-a665e09ed291"
      },
      "execution_count": null,
      "outputs": [
        {
          "output_type": "stream",
          "name": "stdout",
          "text": [
            "Exporting quantized weights...\n",
            "Export done. Files in: /content/drive/MyDrive/LSM_HDL_CPU\n"
          ]
        }
      ]
    },
    {
      "cell_type": "code",
      "source": [
        "import numpy as np\n",
        "\n",
        "for name in ['Win_q', 'W_q', 'Wout_q']:\n",
        "    data = np.load(f'/content/drive/MyDrive/LSM_HDL_CPU/{name}.npz')['data']\n",
        "    mem_path = f'/content/drive/MyDrive/LSM_HDL_CPU/{name}.mem'\n",
        "    with open(mem_path, 'w') as f:\n",
        "        for val in data.flatten():\n",
        "            f.write(f\"{int(val) & 0xFFFF:04x}\\n\")  # Q15 hex format\n"
      ],
      "metadata": {
        "id": "xz_uW8MeLtmF"
      },
      "execution_count": null,
      "outputs": []
    },
    {
      "cell_type": "code",
      "source": [
        "import matplotlib.pyplot as plt\n",
        "import numpy as np\n",
        "from scipy import sparse\n",
        "\n",
        "# --- Configuration from your script ---\n",
        "OUTPUT_DIR = '/content/drive/MyDrive/LSM_HDL_CPU'\n",
        "N_INPUT = 784\n",
        "N_RESERVOIR = 500\n",
        "\n",
        "# --- Load the model weights ---\n",
        "npz_path = os.path.join(OUTPUT_DIR, 'lsm_parameters.npz')\n",
        "\n",
        "try:\n",
        "    data = np.load(npz_path, allow_pickle=True)\n",
        "    # The saved data contains the dense (or previously made dense) arrays\n",
        "    Win_dense = data['Win'].astype(np.float32)\n",
        "    W_dense = data['W'].astype(np.float32)\n",
        "    Wout_dense = data['Wout'].astype(np.float32)\n",
        "\n",
        "    # Re-create sparse for visualization of sparsity, though dense is fine for heatmaps\n",
        "    Win = sparse.csr_matrix(Win_dense)\n",
        "    W = sparse.csr_matrix(W_dense)\n",
        "    Wout = Wout_dense\n",
        "\n",
        "except FileNotFoundError:\n",
        "    print(f\"Error: Model file not found at {npz_path}. Please run the training script first.\")\n",
        "    # Exit or handle the error appropriately\n",
        "    # For this example, we'll return, but in a full notebook you might raise an error\n",
        "    exit()\n",
        "\n",
        "# --- Visualization Function ---\n",
        "\n",
        "def visualize_lsm_weights(Win, W, Wout):\n",
        "    \"\"\"\n",
        "    Generates heatmaps for the LSM weight matrices:\n",
        "    1. Input-to-Reservoir (Win)\n",
        "    2. Recurrent Reservoir (W)\n",
        "    3. Reservoir-to-Output (Wout)\n",
        "    \"\"\"\n",
        "\n",
        "    fig = plt.figure(figsize=(15, 12))\n",
        "    plt.suptitle('Liquid State Machine (LSM) Weight Visualization', fontsize=16)\n",
        "\n",
        "    # 1. Input-to-Reservoir Weight Matrix (Win)\n",
        "    ax1 = fig.add_subplot(2, 2, 1)\n",
        "\n",
        "    # Use the dense array for the heatmap\n",
        "    Win_array = Win.toarray()\n",
        "\n",
        "    # We use a custom color scheme to highlight the sparsity and weight distribution\n",
        "    cbar1 = ax1.imshow(Win_array, aspect='auto', cmap='viridis',\n",
        "                       interpolation='nearest')\n",
        "    plt.colorbar(cbar1, ax=ax1, orientation='vertical', fraction=0.046, pad=0.04)\n",
        "    ax1.set_title(r'Input-to-Reservoir $\\mathbf{W}_{\\text{in}}$ ($N_{\\text{res}} \\times N_{\\text{in}}$)')\n",
        "    ax1.set_xlabel(f'Input Pixels (0-{N_INPUT-1})')\n",
        "    ax1.set_ylabel(f'Reservoir Neurons (0-{N_RESERVOIR-1})')\n",
        "    ax1.text(0.5, -0.2, f'Sparsity: {1 - Win.nnz / Win.size:.2f}',\n",
        "             transform=ax1.transAxes, ha='center')\n",
        "\n",
        "    # 2. Recurrent Reservoir Weight Matrix (W)\n",
        "    ax2 = fig.add_subplot(2, 2, 2)\n",
        "    W_array = W.toarray()\n",
        "\n",
        "    # Recurrent weights can be positive (excitatory) or negative (inhibitory)\n",
        "    # Use a diverging color map centered at zero\n",
        "    max_abs_w = np.max(np.abs(W_array))\n",
        "    cbar2 = ax2.imshow(W_array, aspect='auto', cmap='coolwarm',\n",
        "                       interpolation='nearest', vmin=-max_abs_w, vmax=max_abs_w)\n",
        "    plt.colorbar(cbar2, ax=ax2, orientation='vertical', fraction=0.046, pad=0.04,\n",
        "                 label='Weight Value (Excitatory/Inhibitory)')\n",
        "    ax2.set_title(r'Recurrent Reservoir $\\mathbf{W}$ ($N_{\\text{res}} \\times N_{\\text{res}}$)')\n",
        "    ax2.set_xlabel(f'Pre-Synaptic Neurons (0-{N_RESERVOIR-1})')\n",
        "    ax2.set_ylabel(f'Post-Synaptic Neurons (0-{N_RESERVOIR-1})')\n",
        "    ax2.text(0.5, -0.2, f'Sparsity: {1 - W.nnz / W.size:.2f}',\n",
        "             transform=ax2.transAxes, ha='center')\n",
        "\n",
        "    # 3. Readout Weight Matrix (Wout)\n",
        "    ax3 = fig.add_subplot(2, 2, 3)\n",
        "\n",
        "    # Wout connects reservoir neurons to the 10 output classes\n",
        "    cbar3 = ax3.imshow(Wout, aspect='auto', cmap='bwr',\n",
        "                       interpolation='nearest', vmin=np.min(Wout), vmax=np.max(Wout))\n",
        "    plt.colorbar(cbar3, ax=ax3, orientation='vertical', fraction=0.046, pad=0.04,\n",
        "                 label='Readout Weight Value')\n",
        "    ax3.set_title(r'Readout $\\mathbf{W}_{\\text{out}}$ ($N_{\\text{classes}} \\times N_{\\text{res}}$)')\n",
        "    ax3.set_xlabel(f'Reservoir Neurons (0-{N_RESERVOIR-1})')\n",
        "    ax3.set_ylabel('Output Classes (0-9)')\n",
        "    ax3.set_yticks(np.arange(Wout.shape[0]))\n",
        "    ax3.set_yticklabels([str(c) for c in data['classes']]) # Use actual class labels\n",
        "\n",
        "    plt.tight_layout(rect=[0, 0.03, 1, 0.95]) # Adjust layout to make space for suptitle\n",
        "    plt.show()\n",
        "\n",
        "# --- Run Visualization ---\n",
        "visualize_lsm_weights(Win, W, Wout_dense)"
      ],
      "metadata": {
        "id": "8DcZrpWXrkNg"
      },
      "execution_count": null,
      "outputs": []
    },
    {
      "cell_type": "code",
      "source": [
        "import graphviz\n",
        "import os\n",
        "\n",
        "OUTPUT_DIR = '/content/drive/MyDrive/LSM_HDL_CPU'\n",
        "os.makedirs(OUTPUT_DIR, exist_ok=True)\n",
        "N_RESERVOIR = 500\n",
        "T_SIM = 100\n",
        "N_TRIALS = 3\n",
        "\n",
        "def generate_colored_lsm_flow_diagram():\n",
        "    dot = graphviz.Digraph(\n",
        "        comment='Colored LSM Flow',\n",
        "        graph_attr={\n",
        "            'rankdir': 'TB',\n",
        "            'fontsize': '10',\n",
        "            'pad': '0.3',\n",
        "            'splines': 'ortho',\n",
        "            'nodesep': '0.7',\n",
        "            'ranksep': '1.0'\n",
        "        },\n",
        "        node_attr={\n",
        "            'style': 'filled',\n",
        "            'shape': 'box',\n",
        "            'fontsize': '10'\n",
        "        }\n",
        "    )\n",
        "\n",
        "    # --- Nodes with colors ---\n",
        "    dot.node('A', 'MNIST Data', fillcolor='lightgray')\n",
        "    dot.node('B', 'Preprocessing\\n(Normalize & Split)', fillcolor='lightgray')\n",
        "    dot.node('C', 'Init/Load\\n$\\\\mathbf{W}_{in}, \\\\mathbf{W}, \\\\mathbf{W}_{out}$', fillcolor='lightblue')\n",
        "    dot.node('D', 'Poisson Spike Encoder', fillcolor='lightgreen')\n",
        "    dot.node('E', f'LIF Reservoir\\n({N_RESERVOIR} neurons, {T_SIM}ms)\\n$V_{{t+1}}$ eq', fillcolor='lightyellow')\n",
        "    dot.node('F', f'Average Activity R\\n(Over {N_TRIALS} Trials)', fillcolor='lightgreen')\n",
        "    dot.node('G', 'Collect States $\\\\mathbf{R}$', fillcolor='lightgray')\n",
        "    dot.node('H', 'Ridge Readout Training\\n($\\\\mathbf{W}_{out} = (\\\\mathbf{R}^T\\\\mathbf{R} + \\\\alpha I)^{-1} \\\\mathbf{R}^T \\\\mathbf{Y}$)', fillcolor='lightblue')\n",
        "    dot.node('I', 'Predict & Evaluate\\n(Accuracy)', fillcolor='gold')\n",
        "    dot.node('J', 'Quantize Weights\\n(Q1.15)', fillcolor='lightcoral')\n",
        "    dot.node('K', 'Export .mem for Vivado', fillcolor='lightcoral')\n",
        "    dot.node('L', 'LSM Model (Trained)', fillcolor='darkorange')\n",
        "\n",
        "    # --- Edges ---\n",
        "    dot.edge('A', 'B', label='Raw Data', fontsize='8')\n",
        "    dot.edge('B', 'C', label='Init', fontsize='8')\n",
        "    dot.edge('B', 'D', label='Normalized Images', fontsize='8')\n",
        "    dot.edge('D', 'E', label='Spike Inputs', fontsize='8')\n",
        "    dot.edge('E', 'F', label='Voltages/Spikes', fontsize='8')\n",
        "    dot.edge('F', 'G', label='Trial-Averaged', fontsize='8')\n",
        "    dot.edge('G', 'H', label='Training R & y', fontsize='8')\n",
        "    dot.edge('H', 'L', label='Trained $\\\\mathbf{W}_{out}$', fontsize='8')\n",
        "    dot.edge('C', 'L', label='Trained $\\\\mathbf{W}_{in}, \\\\mathbf{W}$', fontsize='8')\n",
        "    dot.edge('L', 'I', label='Inference', fontsize='8')\n",
        "    dot.edge('L', 'J', label='For HDL', fontsize='8')\n",
        "    dot.edge('J', 'K', label='Quantized Weights', fontsize='8')\n",
        "\n",
        "    # --- Render ---\n",
        "    diagram_path = os.path.join(OUTPUT_DIR, 'lsm_flow_diagram_colored')\n",
        "    dot.render(diagram_path, format='png', view=False, cleanup=True)\n",
        "    print(f\"Colored LSM diagram saved at {diagram_path}.png\")\n",
        "\n",
        "generate_colored_lsm_flow_diagram()\n"
      ],
      "metadata": {
        "colab": {
          "base_uri": "https://localhost:8080/"
        },
        "id": "FhtD5SwwwhX_",
        "outputId": "237720b1-297b-416e-c8b2-c78ca3b6da09"
      },
      "execution_count": null,
      "outputs": [
        {
          "output_type": "stream",
          "name": "stderr",
          "text": [
            "Warning: Orthogonal edges do not currently handle edge labels. Try using xlabels.\n"
          ]
        },
        {
          "output_type": "stream",
          "name": "stdout",
          "text": [
            "Colored LSM diagram saved at /content/drive/MyDrive/LSM_HDL_CPU/lsm_flow_diagram_colored.png\n"
          ]
        }
      ]
    },
    {
      "cell_type": "code",
      "source": [
        "import graphviz\n",
        "import os\n",
        "\n",
        "OUTPUT_DIR = '/content/drive/MyDrive/LSM_HDL_CPU'\n",
        "os.makedirs(OUTPUT_DIR, exist_ok=True)\n",
        "\n",
        "def generate_lsm_graph():\n",
        "    dot = graphviz.Digraph('LSM', comment='LSM Architecture', format='svg', engine='dot')\n",
        "\n",
        "    # Global graph attributes\n",
        "    dot.attr(rankdir='TB', splines='ortho', fontsize='12', nodesep='0.6', ranksep='0.8')\n",
        "\n",
        "    # --- Nodes ---\n",
        "    dot.node('A', 'MNIST Data', shape='box', style='filled', fillcolor='lightgray')\n",
        "    dot.node('B', 'Preprocessing\\n(Normalize & Split)', shape='box', style='filled', fillcolor='lightblue')\n",
        "    dot.node('C', r'Init/Load $\\mathbf{W}_{in}, \\mathbf{W}, \\mathbf{W}_{out}$', shape='box', style='filled', fillcolor='lightgreen')\n",
        "    dot.node('D', 'Poisson Spike Encoder', shape='box', style='filled', fillcolor='lightyellow')\n",
        "    dot.node('E', r'LIF Reservoir Simulation $(V_{t+1} = V_t + \\frac{dt(-V_t+V_{rest})}{\\tau} + Input + Recurrent)$',\n",
        "             shape='box', style='filled', fillcolor='orange')\n",
        "    dot.node('F', r'Average Activity $\\mathbf{R}$\\nOver N Trials', shape='box', style='filled', fillcolor='lightpink')\n",
        "    dot.node('G', r'Ridge Readout Training $\\mathbf{W}_{out}=(\\mathbf{R}^T \\mathbf{R} + \\alpha I)^{-1} \\mathbf{R}^T \\mathbf{Y}$',\n",
        "             shape='box', style='filled', fillcolor='lightcyan')\n",
        "    dot.node('H', 'Trained Model', shape='box', style='filled', fillcolor='gold')\n",
        "    dot.node('I', 'Quantize Weights (Q1.15)', shape='box', style='filled', fillcolor='salmon')\n",
        "    dot.node('J', 'Export to .mem for Vivado', shape='box', style='filled', fillcolor='salmon')\n",
        "    dot.node('K', 'Predict & Evaluate\\n(Accuracy)', shape='box', style='filled', fillcolor='palegreen')\n",
        "\n",
        "    # --- Edges ---\n",
        "    dot.edge('A', 'B', label='Raw Data')\n",
        "    dot.edge('B', 'C', label='Init weights')\n",
        "    dot.edge('B', 'D', label='Normalized Images')\n",
        "    dot.edge('C', 'E', label='Input Weights')\n",
        "    dot.edge('D', 'E', label='Spike Input')\n",
        "    dot.edge('E', 'F', label='Voltages / Spikes')\n",
        "    dot.edge('F', 'G', label='Trial-Averaged Activity')\n",
        "    dot.edge('G', 'H', label='Train Readout')\n",
        "    dot.edge('H', 'I', label='Quantize for HDL')\n",
        "    dot.edge('I', 'J', label='Export .mem')\n",
        "    dot.edge('H', 'K', label='Test & Evaluate')\n",
        "\n",
        "    # Render\n",
        "    diagram_path = os.path.join(OUTPUT_DIR, 'lsm_model_architecture')\n",
        "    dot.render(diagram_path, view=False)\n",
        "    print(f\"LSM architecture diagram saved at {diagram_path}.svg\")\n",
        "\n",
        "# Run\n",
        "generate_lsm_graph()\n"
      ],
      "metadata": {
        "colab": {
          "base_uri": "https://localhost:8080/"
        },
        "id": "Vzwpw7uWyoar",
        "outputId": "4e507f50-fd0b-450f-b062-2f9cab069fce"
      },
      "execution_count": null,
      "outputs": [
        {
          "output_type": "stream",
          "name": "stderr",
          "text": [
            "Warning: Orthogonal edges do not currently handle edge labels. Try using xlabels.\n"
          ]
        },
        {
          "output_type": "stream",
          "name": "stdout",
          "text": [
            "LSM architecture diagram saved at /content/drive/MyDrive/LSM_HDL_CPU/lsm_model_architecture.svg\n"
          ]
        }
      ]
    },
    {
      "cell_type": "code",
      "source": [
        "import graphviz\n",
        "import os\n",
        "\n",
        "OUTPUT_DIR = '/content/drive/MyDrive/LSM_HDL_CPU'\n",
        "os.makedirs(OUTPUT_DIR, exist_ok=True)\n",
        "\n",
        "def generate_lsm_diagram_word():\n",
        "    dot = graphviz.Digraph(comment='LSM HDL for Word', format='svg')\n",
        "    dot.attr(rankdir='LR', splines='ortho', fontsize='12', nodesep='0.8', ranksep='1.0')\n",
        "\n",
        "    # --- Setup Cluster ---\n",
        "    with dot.subgraph(name='cluster_setup') as c:\n",
        "        c.attr(style='filled', color='lightgray', label='Setup & Preprocessing', fontsize='12')\n",
        "        c.node_attr.update(shape='box', style='filled', fontsize='12', width='2', height='0.9')\n",
        "        c.node('A', 'MNIST Data', fillcolor='#D3D3D3')\n",
        "        c.node('B', 'Preprocessing\\n(Normalize & Split)', fillcolor='#ADD8E6')\n",
        "        c.node('C', 'Init/Load W_in, W, W_out', fillcolor='#90EE90')\n",
        "        c.edge('A', 'B', label='Raw Data')\n",
        "        c.edge('B', 'C', label='Init Weights')\n",
        "\n",
        "    # --- Reservoir Cluster ---\n",
        "    with dot.subgraph(name='cluster_reservoir') as c:\n",
        "        c.attr(style='filled', color='lightyellow', label='Reservoir State Generation', fontsize='12')\n",
        "        c.node_attr.update(shape='box', style='filled', fontsize='12', width='2.5', height='1.1')\n",
        "        c.node('D', 'Poisson Spike Encoder', fillcolor='#FFFF99')\n",
        "        c.node('E', 'LIF Reservoir\\nV_{t+1} = V_t + dt(-V_t + V_rest)/τ + Input + Recurrent', fillcolor='#FFA500')\n",
        "        c.node('F', 'Average Activity R\\n(Over N Trials)', fillcolor='#FFB6C1')\n",
        "        c.edge('B', 'D', label='Normalized Images')\n",
        "        c.edge('C', 'E', label='Input Weights')\n",
        "        c.edge('D', 'E', label='Spike Input')\n",
        "        c.edge('E', 'F', label='Voltages / Spikes')\n",
        "\n",
        "    # --- Readout Cluster ---\n",
        "    with dot.subgraph(name='cluster_readout') as c:\n",
        "        c.attr(style='filled', color='lightblue', label='Readout & Model', fontsize='12')\n",
        "        c.node_attr.update(shape='box', style='filled', fontsize='12', width='2.5', height='1.1')\n",
        "        c.node('G', 'Ridge Readout\\nW_out = (RᵀR + αI)^-1 RᵀY', fillcolor='#E0FFFF')\n",
        "        c.node('H', 'Trained Model', fillcolor='#FFD700')\n",
        "        c.edge('F', 'G', label='Trial-Averaged Activity')\n",
        "        c.edge('G', 'H', label='Train Readout')\n",
        "\n",
        "    # --- Export Cluster ---\n",
        "    with dot.subgraph(name='cluster_export') as c:\n",
        "        c.attr(style='filled', color='lightcoral', label='Export / Evaluation', fontsize='12')\n",
        "        c.node_attr.update(shape='box', style='filled', fontsize='12', width='2', height='0.9')\n",
        "        c.node('I', 'Quantize Weights (Q1.15)', fillcolor='#FA8072')\n",
        "        c.node('J', 'Export .mem for Vivado', fillcolor='#FA8072')\n",
        "        c.node('K', 'Predict & Evaluate\\nAccuracy', fillcolor='#98FB98')\n",
        "        c.edge('H', 'I', label='Quantize for HDL')\n",
        "        c.edge('I', 'J', label='Export .mem')\n",
        "        c.edge('H', 'K', label='Test & Evaluate')\n",
        "\n",
        "    # --- Render ---\n",
        "    diagram_path = os.path.join(OUTPUT_DIR, 'lsm_diagram_word')\n",
        "    dot.render(diagram_path, view=False)\n",
        "    print(f\"Word-friendly LSM diagram saved at {diagram_path}.svg\")\n",
        "\n",
        "generate_lsm_diagram_word()\n"
      ],
      "metadata": {
        "colab": {
          "base_uri": "https://localhost:8080/"
        },
        "id": "UZsOgKf4z46n",
        "outputId": "535c2b2a-823c-4e1d-d0b2-fbb56bf6fb39"
      },
      "execution_count": null,
      "outputs": [
        {
          "output_type": "stream",
          "name": "stderr",
          "text": [
            "Warning: Orthogonal edges do not currently handle edge labels. Try using xlabels.\n"
          ]
        },
        {
          "output_type": "stream",
          "name": "stdout",
          "text": [
            "Word-friendly LSM diagram saved at /content/drive/MyDrive/LSM_HDL_CPU/lsm_diagram_word.svg\n"
          ]
        }
      ]
    }
  ]
}